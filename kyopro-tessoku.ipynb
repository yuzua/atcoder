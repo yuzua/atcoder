{
  "nbformat": 4,
  "nbformat_minor": 0,
  "metadata": {
    "colab": {
      "provenance": [],
      "authorship_tag": "ABX9TyNLkhWFLuaGw32IlPPG58J4",
      "include_colab_link": true
    },
    "kernelspec": {
      "name": "python3",
      "display_name": "Python 3"
    },
    "language_info": {
      "name": "python"
    }
  },
  "cells": [
    {
      "cell_type": "markdown",
      "metadata": {
        "id": "view-in-github",
        "colab_type": "text"
      },
      "source": [
        "<a href=\"https://colab.research.google.com/github/yuzua/atcoder/blob/main/kyopro-tessoku.ipynb\" target=\"_parent\"><img src=\"https://colab.research.google.com/assets/colab-badge.svg\" alt=\"Open In Colab\"/></a>"
      ]
    },
    {
      "cell_type": "markdown",
      "source": [
        "# 1章　練習問題"
      ],
      "metadata": {
        "id": "ugU9e_clwixZ"
      }
    },
    {
      "cell_type": "code",
      "execution_count": 2,
      "metadata": {
        "colab": {
          "base_uri": "https://localhost:8080/"
        },
        "id": "G4tVniuTwfn2",
        "outputId": "91489ce4-80df-4a69-a869-ed82db118dd8"
      },
      "outputs": [
        {
          "output_type": "stream",
          "name": "stdout",
          "text": [
            "4\n",
            "16\n"
          ]
        }
      ],
      "source": [
        "# A01\n",
        "N = int(input())\n",
        "print(N**2)\n",
        "\n",
        "# A\n",
        "N = int(input())\n",
        "print(N * N)"
      ]
    },
    {
      "cell_type": "code",
      "source": [
        "# B01\n",
        "A, B = map(int, input().split())\n",
        "print(A+B)"
      ],
      "metadata": {
        "colab": {
          "base_uri": "https://localhost:8080/"
        },
        "id": "MiWFkp_fw0Hg",
        "outputId": "ca9b1ca9-bf95-4ad9-c142-741b12903e3a"
      },
      "execution_count": 2,
      "outputs": [
        {
          "output_type": "stream",
          "name": "stdout",
          "text": [
            "1 2\n",
            "3\n"
          ]
        }
      ]
    },
    {
      "cell_type": "code",
      "source": [],
      "metadata": {
        "id": "Aos_1yi77zuw"
      },
      "execution_count": null,
      "outputs": []
    }
  ]
}