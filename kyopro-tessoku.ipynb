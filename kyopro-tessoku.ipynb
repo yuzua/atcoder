{
  "nbformat": 4,
  "nbformat_minor": 0,
  "metadata": {
    "colab": {
      "provenance": [],
      "authorship_tag": "ABX9TyNbgABbWkRy3RYB7v7ToIsy",
      "include_colab_link": true
    },
    "kernelspec": {
      "name": "python3",
      "display_name": "Python 3"
    },
    "language_info": {
      "name": "python"
    }
  },
  "cells": [
    {
      "cell_type": "markdown",
      "metadata": {
        "id": "view-in-github",
        "colab_type": "text"
      },
      "source": [
        "<a href=\"https://colab.research.google.com/github/yuzua/atcoder/blob/main/kyopro-tessoku.ipynb\" target=\"_parent\"><img src=\"https://colab.research.google.com/assets/colab-badge.svg\" alt=\"Open In Colab\"/></a>"
      ]
    },
    {
      "cell_type": "markdown",
      "source": [
        "# 1章　練習問題"
      ],
      "metadata": {
        "id": "ugU9e_clwixZ"
      }
    },
    {
      "cell_type": "code",
      "execution_count": null,
      "metadata": {
        "colab": {
          "base_uri": "https://localhost:8080/"
        },
        "id": "G4tVniuTwfn2",
        "outputId": "91489ce4-80df-4a69-a869-ed82db118dd8"
      },
      "outputs": [
        {
          "output_type": "stream",
          "name": "stdout",
          "text": [
            "4\n",
            "16\n"
          ]
        }
      ],
      "source": [
        "# A01\n",
        "N = int(input())\n",
        "print(N**2)\n",
        "\n",
        "# A\n",
        "N = int(input())\n",
        "print(N * N)"
      ]
    },
    {
      "cell_type": "code",
      "source": [
        "# B01\n",
        "A, B = map(int, input().split())\n",
        "print(A+B)"
      ],
      "metadata": {
        "colab": {
          "base_uri": "https://localhost:8080/"
        },
        "id": "MiWFkp_fw0Hg",
        "outputId": "ca9b1ca9-bf95-4ad9-c142-741b12903e3a"
      },
      "execution_count": null,
      "outputs": [
        {
          "output_type": "stream",
          "name": "stdout",
          "text": [
            "1 2\n",
            "3\n"
          ]
        }
      ]
    },
    {
      "cell_type": "code",
      "source": [
        "# A02\n",
        "N, X = map(int, input().split())\n",
        "a_list = list(map(int, input().split()))\n",
        "if X in set(a_list):\n",
        "  print(\"Yes\")\n",
        "else:\n",
        "  print(\"No\")\n",
        "\n",
        "# A\n",
        "# 入力\n",
        "N, X = map(int, input().split())\n",
        "A = list(map(int, input().split()))\n",
        "Answer = False\n",
        "\n",
        "# 全探索（変数 Answer は「既に x が見つかったかどうか」を表す）\n",
        "for i in range(N):\n",
        "\tif A[i] == X:\n",
        "\t\tAnswer = True\n",
        "\n",
        "# 出力\n",
        "if Answer == True:\n",
        "\tprint(\"Yes\")\n",
        "else:\n",
        "\tprint(\"No\")\n",
        " \n",
        "# 答えを見てからの自分なりの回答\n",
        "N, X = map(int, input().split())\n",
        "A_LIST = list(map(int, input().split()))\n",
        "Answer = \"No\"\n",
        "\n",
        "for A in A_LIST:\n",
        "  if A == X:\n",
        "    Answer = \"Yes\"\n",
        "    break\n",
        "\n",
        "print(Answer)"
      ],
      "metadata": {
        "id": "Aos_1yi77zuw",
        "outputId": "de3c59e5-33c0-4238-8522-e0a317f34ed9",
        "colab": {
          "base_uri": "https://localhost:8080/"
        }
      },
      "execution_count": 5,
      "outputs": [
        {
          "output_type": "stream",
          "name": "stdout",
          "text": [
            "6 28\n",
            "30 10 40 10 50 90\n",
            "No\n"
          ]
        }
      ]
    },
    {
      "cell_type": "code",
      "source": [],
      "metadata": {
        "id": "BkFuiy7b_j6H"
      },
      "execution_count": null,
      "outputs": []
    }
  ]
}