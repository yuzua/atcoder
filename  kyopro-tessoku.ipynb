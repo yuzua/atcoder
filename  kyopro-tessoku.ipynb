{
  "nbformat": 4,
  "nbformat_minor": 0,
  "metadata": {
    "colab": {
      "provenance": [],
      "authorship_tag": "ABX9TyMsp0MPq1cOo/9xHRKy72EP",
      "include_colab_link": true
    },
    "kernelspec": {
      "name": "python3",
      "display_name": "Python 3"
    },
    "language_info": {
      "name": "python"
    }
  },
  "cells": [
    {
      "cell_type": "markdown",
      "metadata": {
        "id": "view-in-github",
        "colab_type": "text"
      },
      "source": [
        "<a href=\"https://colab.research.google.com/github/yuzua/atcoder/blob/main/%20kyopro-tessoku.ipynb\" target=\"_parent\"><img src=\"https://colab.research.google.com/assets/colab-badge.svg\" alt=\"Open In Colab\"/></a>"
      ]
    },
    {
      "cell_type": "markdown",
      "source": [
        "# 1章　練習問題"
      ],
      "metadata": {
        "id": "ugU9e_clwixZ"
      }
    },
    {
      "cell_type": "code",
      "execution_count": 2,
      "metadata": {
        "colab": {
          "base_uri": "https://localhost:8080/"
        },
        "id": "G4tVniuTwfn2",
        "outputId": "91489ce4-80df-4a69-a869-ed82db118dd8"
      },
      "outputs": [
        {
          "output_type": "stream",
          "name": "stdout",
          "text": [
            "4\n",
            "16\n"
          ]
        }
      ],
      "source": [
        "# 1-1\n",
        "N = int(input())\n",
        "print(N**2)\n",
        "\n",
        "# A\n",
        "N = int(input())\n",
        "print(N * N)"
      ]
    },
    {
      "cell_type": "code",
      "source": [],
      "metadata": {
        "id": "MiWFkp_fw0Hg"
      },
      "execution_count": 1,
      "outputs": []
    }
  ]
}